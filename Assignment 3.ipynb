{
 "cells": [
  {
   "cell_type": "markdown",
   "metadata": {},
   "source": [
    "# Assignment 3"
   ]
  },
  {
   "cell_type": "markdown",
   "metadata": {},
   "source": [
    "### Write a function to count the number 4 in a given list."
   ]
  },
  {
   "cell_type": "code",
   "execution_count": 2,
   "metadata": {},
   "outputs": [
    {
     "name": "stdout",
     "output_type": "stream",
     "text": [
      "5\n"
     ]
    }
   ],
   "source": [
    "d  = [4, 6, 8, 4, 4, 9, 0, 4, 4, 1, 2, 3, 5, 5] # 5 times of 4\n",
    "def count():\n",
    "    c = 0  # c --> count variable\n",
    "    for i in d:\n",
    "        if i == 4:\n",
    "            c += 1\n",
    "    print(c)\n",
    "count()"
   ]
  },
  {
   "cell_type": "markdown",
   "metadata": {},
   "source": [
    "### write a  function to check whether a number is divisible by another number."
   ]
  },
  {
   "cell_type": "code",
   "execution_count": 11,
   "metadata": {},
   "outputs": [
    {
     "name": "stdout",
     "output_type": "stream",
     "text": [
      "8\n",
      "8  is divisible by another number.\n",
      "8  is divisible by number  2\n",
      "8  is divisible by number  4\n"
     ]
    }
   ],
   "source": [
    "def div():\n",
    "    n = int(input())\n",
    "    divisible_by = []\n",
    "    \n",
    "    for i in range (2, 10, 1):\n",
    "        if n % i == 0:\n",
    "            divisible_by.append(i)\n",
    "            \n",
    "    if len(divisible_by) == 1:\n",
    "        print(n, \" isn't divisible by another number.\")\n",
    "    else:\n",
    "        print(n, \" is divisible by another number.\")\n",
    "        \n",
    "    for j in divisible_by:\n",
    "        if j == n:\n",
    "            pass\n",
    "        else:\n",
    "            print(n, \" is divisible by number \", j)\n",
    "            \n",
    "div()"
   ]
  },
  {
   "cell_type": "markdown",
   "metadata": {},
   "source": [
    "### write a function to find the maximum and minimum numbers from a sequence of numbers."
   ]
  },
  {
   "cell_type": "code",
   "execution_count": 28,
   "metadata": {},
   "outputs": [
    {
     "name": "stdout",
     "output_type": "stream",
     "text": [
      "Maximum number is  75\n",
      "Minimum number is  -5\n"
     ]
    }
   ],
   "source": [
    "def max_min(list):\n",
    "    max = list[0]\n",
    "    min = list[0]\n",
    "    for i in list:\n",
    "        if i > max:\n",
    "            max = i\n",
    "        elif i < min:\n",
    "            min = i\n",
    "    print(\"Maximum number is \", max)\n",
    "    print(\"Minimum number is \", min)\n",
    "max_min([0, 10, 15, 40, -5, 42, 17, 28, 75])"
   ]
  },
  {
   "cell_type": "markdown",
   "metadata": {},
   "source": [
    "### Write a Python function that takes two lists and returns True if they have at least one common member."
   ]
  },
  {
   "cell_type": "code",
   "execution_count": 48,
   "metadata": {},
   "outputs": [
    {
     "name": "stdout",
     "output_type": "stream",
     "text": [
      "True\n",
      "False\n"
     ]
    }
   ],
   "source": [
    "def common(list1, list2):\n",
    "    common = False\n",
    "    for x in list1:\n",
    "        for y in list2:\n",
    "            if x == y:\n",
    "                common = True\n",
    "                break\n",
    "    print(common)\n",
    "                \n",
    "common([0, 10, 15, 40, -5, 42, 17, 28, 75], [1, 2, 3, 4, 5, 40, 8, 50]) # 40 is common\n",
    "common([0, 10, 15, 40, -5, 42, 17, 28, 75], [1, 2, 3, 4, 5, 45,8, 50])"
   ]
  },
  {
   "cell_type": "markdown",
   "metadata": {},
   "source": [
    "### Write a Python function to calculate the factorial of a number (a non-negative integer). The function accepts the number from the user"
   ]
  },
  {
   "cell_type": "code",
   "execution_count": 56,
   "metadata": {},
   "outputs": [
    {
     "name": "stdout",
     "output_type": "stream",
     "text": [
      "5\n",
      "120\n"
     ]
    }
   ],
   "source": [
    "def fact():\n",
    "    n = int(input())\n",
    "    fact = 1\n",
    "    for i in range(1, (n+1), 1):\n",
    "        fact *= i\n",
    "    print(fact)\n",
    "fact()   "
   ]
  },
  {
   "cell_type": "markdown",
   "metadata": {},
   "source": [
    "### Write a Python function to check whether a number is in a given range.\n",
    "\n",
    "### The range is from 3 to 11\n"
   ]
  },
  {
   "cell_type": "code",
   "execution_count": 76,
   "metadata": {},
   "outputs": [
    {
     "name": "stdout",
     "output_type": "stream",
     "text": [
      "5\n",
      "True that 5 is in range from 3 to 11\n",
      "50\n",
      "False that 50 is in range from 3 to 11\n"
     ]
    }
   ],
   "source": [
    "def check():\n",
    "    n = int(input())\n",
    "    check = False\n",
    "    for i in range(3, 12, 1):\n",
    "        if n == i:\n",
    "            check = True\n",
    "            break\n",
    "    print(check, \"that\", n,  \"is in range from 3 to 11\")\n",
    "            \n",
    "check()\n",
    "check()"
   ]
  },
  {
   "cell_type": "markdown",
   "metadata": {},
   "source": [
    "### Write a  program to create the multiplication table (from 1 to 10) of a number."
   ]
  },
  {
   "cell_type": "code",
   "execution_count": 78,
   "metadata": {},
   "outputs": [
    {
     "name": "stdout",
     "output_type": "stream",
     "text": [
      "5\n",
      "5  ×  1  =  5\n",
      "5  ×  2  =  10\n",
      "5  ×  3  =  15\n",
      "5  ×  4  =  20\n",
      "5  ×  5  =  25\n",
      "5  ×  6  =  30\n",
      "5  ×  7  =  35\n",
      "5  ×  8  =  40\n",
      "5  ×  9  =  45\n",
      "5  ×  10  =  50\n"
     ]
    }
   ],
   "source": [
    "def multi():\n",
    "    n = int(input())\n",
    "    for i in range(1, 11, 1):\n",
    "        print(n, \" × \", i, \" = \", n*i)\n",
    "        \n",
    "multi()"
   ]
  },
  {
   "cell_type": "markdown",
   "metadata": {},
   "source": [
    "#### LESSER OF TWO EVENS: Write a function that returns the lesser of two given numbers *if* both numbers are even, but returns the greater if one or both numbers are odd\n",
    "    lesser_of_two_evens(2,4) --> 2\n",
    "    lesser_of_two_evens(2,5) --> 5"
   ]
  },
  {
   "cell_type": "code",
   "execution_count": 11,
   "metadata": {},
   "outputs": [
    {
     "name": "stdout",
     "output_type": "stream",
     "text": [
      "2\n",
      "5\n"
     ]
    }
   ],
   "source": [
    "def lesser(n1, n2):\n",
    "    if n1 % 2 == 0 and n2 % 2 == 0:\n",
    "        if n1 > n2:\n",
    "            print(n2)\n",
    "        else:\n",
    "            print(n1)\n",
    "    \n",
    "    elif n1 % 2 != 0 or n2 % 2 != 0:\n",
    "        if n1 > n2:\n",
    "            print(n1)\n",
    "        else:\n",
    "            print(n2) \n",
    "\n",
    "lesser(2, 4)\n",
    "lesser(2, 5)"
   ]
  },
  {
   "cell_type": "markdown",
   "metadata": {},
   "source": [
    "#### ANIMAL CRACKERS: Write a function takes a two-word string and returns True if both words begin with same letter\n",
    "    animal_crackers('Levelheaded Llama') --> True\n",
    "    animal_crackers('Crazy Kangaroo') --> False"
   ]
  },
  {
   "cell_type": "code",
   "execution_count": 20,
   "metadata": {},
   "outputs": [
    {
     "name": "stdout",
     "output_type": "stream",
     "text": [
      "Levelheaded Llama\n",
      "True\n",
      "Crazy Kangaroo\n",
      "False\n"
     ]
    }
   ],
   "source": [
    "def animal():\n",
    "    animal = input()\n",
    "    animal = animal.split()\n",
    "    if animal[0][0] == animal[1][0] :\n",
    "        print(\"True\")\n",
    "    else:\n",
    "        print(\"False\")\n",
    "# if animal[0].split()[0][0] == animal[1].split()[0][0] :\n",
    "animal()\n",
    "animal()"
   ]
  },
  {
   "cell_type": "markdown",
   "metadata": {},
   "source": [
    "#### MAKES TWENTY: Given two integers, return True if the sum of the integers is 20 *or* if one of the integers is 20. If not, return False\n",
    "\n",
    "    makes_twenty(20,10) --> True\n",
    "    makes_twenty(12,8) --> True\n",
    "    makes_twenty(2,3) --> False"
   ]
  },
  {
   "cell_type": "code",
   "execution_count": 22,
   "metadata": {},
   "outputs": [
    {
     "name": "stdout",
     "output_type": "stream",
     "text": [
      "True\n",
      "True\n",
      "False\n"
     ]
    }
   ],
   "source": [
    "def twenty(n1, n2):\n",
    "    if n1 + n2 == 20 or n1 == 20 or n2 == 20:\n",
    "        print(\"True\")\n",
    "    else:\n",
    "        print(\"False\")\n",
    "\n",
    "twenty(20, 10)\n",
    "twenty(12, 8)\n",
    "twenty(2, 3)"
   ]
  },
  {
   "cell_type": "markdown",
   "metadata": {},
   "source": [
    "#### ALMOST THERE: Given an integer n, return True if n is within 10 of either 100 or 200\n",
    "\n",
    "    almost_there(90) --> True\n",
    "    almost_there(104) --> True\n",
    "    almost_there(150) --> False\n",
    "    almost_there(209) --> True\n",
    "    \n",
    "NOTE: `abs(num)` returns the absolute value of a number"
   ]
  },
  {
   "cell_type": "code",
   "execution_count": 9,
   "metadata": {},
   "outputs": [
    {
     "name": "stdout",
     "output_type": "stream",
     "text": [
      "True\n",
      "True\n",
      "False\n",
      "True\n"
     ]
    }
   ],
   "source": [
    "def there(n):\n",
    "    return 90 <= n <= 110 or 190 <= n <= 210\n",
    "\n",
    "print(there(90))\n",
    "print(there(104))\n",
    "print(there(150))\n",
    "print(there(209))"
   ]
  },
  {
   "cell_type": "markdown",
   "metadata": {},
   "source": [
    "#### BLACKJACK: Given three integers between 1 and 11, if their sum is less than or equal to 21, return their sum. If their sum exceeds 21 *and* there's an eleven, reduce the total sum by 10. Finally, if the sum  exceeds 21, return 'BUST'\n",
    "    blackjack(5,6,7) --> 18\n",
    "    blackjack(9,9,9) --> 'BUST'\n",
    "    blackjack(9,9,11) --> 19"
   ]
  },
  {
   "cell_type": "code",
   "execution_count": 33,
   "metadata": {},
   "outputs": [
    {
     "name": "stdout",
     "output_type": "stream",
     "text": [
      "18\n",
      "BUST\n",
      "19\n",
      "You Didn't Enter Numbers Btween 1 And 11\n"
     ]
    }
   ],
   "source": [
    "def jack(n1, n2, n3):\n",
    "    if (n1 and n2 and n3) >= 1 and  (n1 and n2 and n3) <= 11:\n",
    "        if n1 + n2 + n3 <= 21:\n",
    "            print(n1 + n2 + n3)\n",
    "        elif (n1 + n2 + n3 > 21) and (n1 == 11 or n2 == 11 or n3 == 11):\n",
    "            print(n1 + n2 + n3 - 10)\n",
    "        else:\n",
    "            print(\"BUST\")\n",
    "    else:\n",
    "        print(\"You Didn't Enter Numbers Btween 1 And 11\")\n",
    "\n",
    "jack(5, 6, 7)\n",
    "jack(9, 9, 9)\n",
    "jack(9, 9, 11)\n",
    "jack(2, 4, 12)"
   ]
  }
 ],
 "metadata": {
  "kernelspec": {
   "display_name": "Python 3",
   "language": "python",
   "name": "python3"
  },
  "language_info": {
   "codemirror_mode": {
    "name": "ipython",
    "version": 3
   },
   "file_extension": ".py",
   "mimetype": "text/x-python",
   "name": "python",
   "nbconvert_exporter": "python",
   "pygments_lexer": "ipython3",
   "version": "3.8.8"
  }
 },
 "nbformat": 4,
 "nbformat_minor": 2
}
